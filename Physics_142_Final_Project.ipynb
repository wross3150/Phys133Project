{
  "nbformat": 4,
  "nbformat_minor": 0,
  "metadata": {
    "colab": {
      "provenance": [],
      "include_colab_link": true
    },
    "kernelspec": {
      "name": "python3",
      "display_name": "Python 3"
    },
    "language_info": {
      "name": "python"
    }
  },
  "cells": [
    {
      "cell_type": "markdown",
      "metadata": {
        "id": "view-in-github",
        "colab_type": "text"
      },
      "source": [
        "<a href=\"https://colab.research.google.com/github/wross3150/Phys133Project/blob/main/Physics_142_Final_Project.ipynb\" target=\"_parent\"><img src=\"https://colab.research.google.com/assets/colab-badge.svg\" alt=\"Open In Colab\"/></a>"
      ]
    },
    {
      "cell_type": "markdown",
      "source": [
        "# Setup"
      ],
      "metadata": {
        "id": "9JlLSiFOZ1rw"
      }
    },
    {
      "cell_type": "code",
      "execution_count": null,
      "metadata": {
        "id": "fPWG6TGoYi67"
      },
      "outputs": [],
      "source": [
        "import numpy as np\n",
        "import matplotlib as plt\n",
        "import tqdm"
      ]
    },
    {
      "cell_type": "code",
      "source": [
        "# Qf First column of Fermion Table\n",
        "Quct= 2/3\n",
        "Qdsb= -1/3\n",
        "Qv= 0\n",
        "Qeut= -1\n",
        "# Vf Second Column of Fermion Table\n",
        "Vuct= (1/2 - (4/3)*np.sin(w)**2)\n",
        "Vdsb= (-1/2 - (2/3)*np.sin(w)**2)\n",
        "Vv= 1/2\n",
        "Veut= Vuct= (-1/2 + 2*np.sin(w)**2)\n",
        "# Af Third Column of Fermion Table\n",
        "Auct= 1/2\n",
        "Adsb= -1/2\n",
        "Av= 1/2\n",
        "Aeut= -1/2\n",
        "# Variables Table\n",
        "conv= 1*10*-2\n",
        "# Z Boson mass\n",
        "Mz= 91.188\n",
        "# Z Boson Width\n",
        "gamma= 2.4414\n",
        "# QED Running coupling\n",
        "alpha= 1/(132.507)\n",
        "# Fermi Constant\n",
        "Gf= 1.16639*10**-7\n",
        "#Weinberg Angle\n",
        "sin2w= .222246\n",
        "\n",
        "def chi1(s):\n",
        "  return\n",
        "def chi2(s):\n",
        "  return\n",
        "def A0(s):\n",
        "  return\n",
        "def A1(s):\n",
        "  return\n",
        "k= (np.sqrt(2)*Gf*Mz**2)\n"
      ],
      "metadata": {
        "id": "gt4Sdxb_or__",
        "colab": {
          "base_uri": "https://localhost:8080/",
          "height": 211
        },
        "outputId": "512e5020-093f-46e8-b2d1-2bce32ec043d"
      },
      "execution_count": null,
      "outputs": [
        {
          "output_type": "error",
          "ename": "NameError",
          "evalue": "name 'w' is not defined",
          "traceback": [
            "\u001b[0;31m---------------------------------------------------------------------------\u001b[0m",
            "\u001b[0;31mNameError\u001b[0m                                 Traceback (most recent call last)",
            "\u001b[0;32m<ipython-input-2-87d2623771be>\u001b[0m in \u001b[0;36m<cell line: 7>\u001b[0;34m()\u001b[0m\n\u001b[1;32m      5\u001b[0m \u001b[0mQeut\u001b[0m\u001b[0;34m=\u001b[0m \u001b[0;34m-\u001b[0m\u001b[0;36m1\u001b[0m\u001b[0;34m\u001b[0m\u001b[0;34m\u001b[0m\u001b[0m\n\u001b[1;32m      6\u001b[0m \u001b[0;31m# Vf Second Column of Fermion Table\u001b[0m\u001b[0;34m\u001b[0m\u001b[0;34m\u001b[0m\u001b[0m\n\u001b[0;32m----> 7\u001b[0;31m \u001b[0mVuct\u001b[0m\u001b[0;34m=\u001b[0m \u001b[0;34m(\u001b[0m\u001b[0;36m1\u001b[0m\u001b[0;34m/\u001b[0m\u001b[0;36m2\u001b[0m \u001b[0;34m-\u001b[0m \u001b[0;34m(\u001b[0m\u001b[0;36m4\u001b[0m\u001b[0;34m/\u001b[0m\u001b[0;36m3\u001b[0m\u001b[0;34m)\u001b[0m\u001b[0;34m*\u001b[0m\u001b[0mnp\u001b[0m\u001b[0;34m.\u001b[0m\u001b[0msin\u001b[0m\u001b[0;34m(\u001b[0m\u001b[0mw\u001b[0m\u001b[0;34m)\u001b[0m\u001b[0;34m**\u001b[0m\u001b[0;36m2\u001b[0m\u001b[0;34m)\u001b[0m\u001b[0;34m\u001b[0m\u001b[0;34m\u001b[0m\u001b[0m\n\u001b[0m\u001b[1;32m      8\u001b[0m \u001b[0mVdsb\u001b[0m\u001b[0;34m=\u001b[0m \u001b[0;34m(\u001b[0m\u001b[0;34m-\u001b[0m\u001b[0;36m1\u001b[0m\u001b[0;34m/\u001b[0m\u001b[0;36m2\u001b[0m \u001b[0;34m-\u001b[0m \u001b[0;34m(\u001b[0m\u001b[0;36m2\u001b[0m\u001b[0;34m/\u001b[0m\u001b[0;36m3\u001b[0m\u001b[0;34m)\u001b[0m\u001b[0;34m*\u001b[0m\u001b[0mnp\u001b[0m\u001b[0;34m.\u001b[0m\u001b[0msin\u001b[0m\u001b[0;34m(\u001b[0m\u001b[0mw\u001b[0m\u001b[0;34m)\u001b[0m\u001b[0;34m**\u001b[0m\u001b[0;36m2\u001b[0m\u001b[0;34m)\u001b[0m\u001b[0;34m\u001b[0m\u001b[0;34m\u001b[0m\u001b[0m\n\u001b[1;32m      9\u001b[0m \u001b[0mVv\u001b[0m\u001b[0;34m=\u001b[0m \u001b[0;36m1\u001b[0m\u001b[0;34m/\u001b[0m\u001b[0;36m2\u001b[0m\u001b[0;34m\u001b[0m\u001b[0;34m\u001b[0m\u001b[0m\n",
            "\u001b[0;31mNameError\u001b[0m: name 'w' is not defined"
          ]
        }
      ]
    },
    {
      "cell_type": "code",
      "source": [
        "# Constants\n",
        "MZ = 91.188  # GeV\n",
        "Gamma_Z = 2.4414  # GeV\n",
        "alpha = 1 / 132.507\n",
        "GF = 1.16639e-5  # GeV^-2\n",
        "sin2_thetaW = 0.222246\n",
        "GeV_to_pb = 3.894e8  # pb^-1\n",
        "\n",
        "# Function to calculate A0 and A1\n",
        "def calculate_A0_A1(s_hat):\n",
        "    Qe = -1\n",
        "    Ve = -0.5 + 2 * sin2_thetaW\n",
        "    Ae = -0.5\n",
        "    Qmu = -1\n",
        "    Vmu = -0.5 + 2 * sin2_thetaW\n",
        "    Amu = -0.5\n",
        "    s = s_hat\n",
        "    A0 = Qe**2 - 2 * Qe * Vmu * Ve * chi1(s_hat) + (Amu**2 + Vmu**2) * (Ae**2 + Ve**2) * chi2(s_hat)\n",
        "    A1 = -4 * Qe * Ae * Amu * chi1(s_hat) + 8 * Amu * Vmu * Ae * Ve * chi2(s_hat)\n",
        "    return A0, A1\n",
        "\n",
        "# Functions to calculate chi1 and chi2\n",
        "def chi1(s_hat):\n",
        "    s = s_hat\n",
        "    return (s * (s - MZ**2)) / ((s - MZ**2)**2 + (Gamma_Z * MZ)**2)\n",
        "\n",
        "def chi2(s_hat):\n",
        "    s = s_hat\n",
        "    return (s**2) / ((s - MZ**2)**2 + (Gamma_Z * MZ)**2)\n",
        "\n",
        "def p(s_hat, cos_theta):\n",
        "  return alpha**2 / (4 * s_hat) * (A0 * (1 + cos_theta**2) + A1 * cos_theta)\n"
      ],
      "metadata": {
        "id": "AmGzITRK1c7j"
      },
      "execution_count": null,
      "outputs": []
    },
    {
      "cell_type": "code",
      "source": [
        "def generate_events_A(N):\n",
        "    events = []\n",
        "    while len(events) < N:\n",
        "        ECM = np.random.uniform(10, 200)  # GeV\n",
        "        cos_theta = np.random.uniform(-1, 1)\n",
        "        s_hat = ECM**2\n",
        "        A0, A1 = calculate_A0_A1(s_hat)\n",
        "        cross_section = alpha**2 / (4 * s_hat) * (A0 * (1 + cos_theta**2) + A1 * cos_theta)\n",
        "        rand_val = np.random.uniform(0, 1)\n",
        "        if rand_val < cross_section:\n",
        "            events.append((ECM, cos_theta))\n",
        "    return events\n",
        "\n",
        "# Number of events to generate\n",
        "N_events = 10000\n",
        "\n",
        "# Generate events\n",
        "events_A = generate_events_A(N_events)\n",
        "\n",
        "# Plot the events\n",
        "ECM_A, cos_theta_A = zip(*events_A)\n",
        "plt.figure(figsize=(10, 6))\n",
        "plt.hist2d(ECM_A, cos_theta_A, bins=50, cmap='plasma')\n",
        "plt.xlabel('ECM (GeV)')\n",
        "plt.ylabel('cos θ')\n",
        "plt.title('Generated Events (Acceptance-Rejection Method)')\n",
        "plt.colorbar(label='Frequency')\n",
        "plt.grid(True)\n",
        "plt.show()"
      ],
      "metadata": {
        "colab": {
          "base_uri": "https://localhost:8080/",
          "height": 356
        },
        "id": "-WVie4P12WCW",
        "outputId": "e0d9a9a0-1f91-4d5a-cf9a-a7bd992fc554"
      },
      "execution_count": null,
      "outputs": [
        {
          "output_type": "error",
          "ename": "KeyboardInterrupt",
          "evalue": "",
          "traceback": [
            "\u001b[0;31m---------------------------------------------------------------------------\u001b[0m",
            "\u001b[0;31mKeyboardInterrupt\u001b[0m                         Traceback (most recent call last)",
            "\u001b[0;32m<ipython-input-7-bb970fe925ae>\u001b[0m in \u001b[0;36m<cell line: 18>\u001b[0;34m()\u001b[0m\n\u001b[1;32m     16\u001b[0m \u001b[0;34m\u001b[0m\u001b[0m\n\u001b[1;32m     17\u001b[0m \u001b[0;31m# Generate events\u001b[0m\u001b[0;34m\u001b[0m\u001b[0;34m\u001b[0m\u001b[0m\n\u001b[0;32m---> 18\u001b[0;31m \u001b[0mevents_A\u001b[0m \u001b[0;34m=\u001b[0m \u001b[0mgenerate_events_A\u001b[0m\u001b[0;34m(\u001b[0m\u001b[0mN_events\u001b[0m\u001b[0;34m)\u001b[0m\u001b[0;34m\u001b[0m\u001b[0;34m\u001b[0m\u001b[0m\n\u001b[0m\u001b[1;32m     19\u001b[0m \u001b[0;34m\u001b[0m\u001b[0m\n\u001b[1;32m     20\u001b[0m \u001b[0;31m# Plot the events\u001b[0m\u001b[0;34m\u001b[0m\u001b[0;34m\u001b[0m\u001b[0m\n",
            "\u001b[0;32m<ipython-input-7-bb970fe925ae>\u001b[0m in \u001b[0;36mgenerate_events_A\u001b[0;34m(N)\u001b[0m\n\u001b[1;32m      5\u001b[0m         \u001b[0mcos_theta\u001b[0m \u001b[0;34m=\u001b[0m \u001b[0mnp\u001b[0m\u001b[0;34m.\u001b[0m\u001b[0mrandom\u001b[0m\u001b[0;34m.\u001b[0m\u001b[0muniform\u001b[0m\u001b[0;34m(\u001b[0m\u001b[0;34m-\u001b[0m\u001b[0;36m1\u001b[0m\u001b[0;34m,\u001b[0m \u001b[0;36m1\u001b[0m\u001b[0;34m)\u001b[0m\u001b[0;34m\u001b[0m\u001b[0;34m\u001b[0m\u001b[0m\n\u001b[1;32m      6\u001b[0m         \u001b[0ms_hat\u001b[0m \u001b[0;34m=\u001b[0m \u001b[0mECM\u001b[0m\u001b[0;34m**\u001b[0m\u001b[0;36m2\u001b[0m\u001b[0;34m\u001b[0m\u001b[0;34m\u001b[0m\u001b[0m\n\u001b[0;32m----> 7\u001b[0;31m         \u001b[0mA0\u001b[0m\u001b[0;34m,\u001b[0m \u001b[0mA1\u001b[0m \u001b[0;34m=\u001b[0m \u001b[0mcalculate_A0_A1\u001b[0m\u001b[0;34m(\u001b[0m\u001b[0ms_hat\u001b[0m\u001b[0;34m)\u001b[0m\u001b[0;34m\u001b[0m\u001b[0;34m\u001b[0m\u001b[0m\n\u001b[0m\u001b[1;32m      8\u001b[0m         \u001b[0mcross_section\u001b[0m \u001b[0;34m=\u001b[0m \u001b[0malpha\u001b[0m\u001b[0;34m**\u001b[0m\u001b[0;36m2\u001b[0m \u001b[0;34m/\u001b[0m \u001b[0;34m(\u001b[0m\u001b[0;36m4\u001b[0m \u001b[0;34m*\u001b[0m \u001b[0ms_hat\u001b[0m\u001b[0;34m)\u001b[0m \u001b[0;34m*\u001b[0m \u001b[0;34m(\u001b[0m\u001b[0mA0\u001b[0m \u001b[0;34m*\u001b[0m \u001b[0;34m(\u001b[0m\u001b[0;36m1\u001b[0m \u001b[0;34m+\u001b[0m \u001b[0mcos_theta\u001b[0m\u001b[0;34m**\u001b[0m\u001b[0;36m2\u001b[0m\u001b[0;34m)\u001b[0m \u001b[0;34m+\u001b[0m \u001b[0mA1\u001b[0m \u001b[0;34m*\u001b[0m \u001b[0mcos_theta\u001b[0m\u001b[0;34m)\u001b[0m\u001b[0;34m\u001b[0m\u001b[0;34m\u001b[0m\u001b[0m\n\u001b[1;32m      9\u001b[0m         \u001b[0mrand_val\u001b[0m \u001b[0;34m=\u001b[0m \u001b[0mnp\u001b[0m\u001b[0;34m.\u001b[0m\u001b[0mrandom\u001b[0m\u001b[0;34m.\u001b[0m\u001b[0muniform\u001b[0m\u001b[0;34m(\u001b[0m\u001b[0;36m0\u001b[0m\u001b[0;34m,\u001b[0m \u001b[0;36m1\u001b[0m\u001b[0;34m)\u001b[0m\u001b[0;34m\u001b[0m\u001b[0;34m\u001b[0m\u001b[0m\n",
            "\u001b[0;32m<ipython-input-3-5ce5362ba5ff>\u001b[0m in \u001b[0;36mcalculate_A0_A1\u001b[0;34m(s_hat)\u001b[0m\n\u001b[1;32m     17\u001b[0m     \u001b[0ms\u001b[0m \u001b[0;34m=\u001b[0m \u001b[0ms_hat\u001b[0m\u001b[0;34m\u001b[0m\u001b[0;34m\u001b[0m\u001b[0m\n\u001b[1;32m     18\u001b[0m     \u001b[0mA0\u001b[0m \u001b[0;34m=\u001b[0m \u001b[0mQe\u001b[0m\u001b[0;34m**\u001b[0m\u001b[0;36m2\u001b[0m \u001b[0;34m*\u001b[0m \u001b[0mnp\u001b[0m\u001b[0;34m.\u001b[0m\u001b[0mexp\u001b[0m\u001b[0;34m(\u001b[0m\u001b[0;34m-\u001b[0m\u001b[0;36m2\u001b[0m \u001b[0;34m*\u001b[0m \u001b[0mQe\u001b[0m \u001b[0;34m*\u001b[0m \u001b[0mVe\u001b[0m\u001b[0;34m)\u001b[0m \u001b[0;34m*\u001b[0m \u001b[0mchi1\u001b[0m\u001b[0;34m(\u001b[0m\u001b[0ms_hat\u001b[0m\u001b[0;34m)\u001b[0m \u001b[0;34m+\u001b[0m \u001b[0;34m(\u001b[0m\u001b[0mAmu\u001b[0m\u001b[0;34m**\u001b[0m\u001b[0;36m2\u001b[0m \u001b[0;34m+\u001b[0m \u001b[0mVmu\u001b[0m\u001b[0;34m**\u001b[0m\u001b[0;36m2\u001b[0m\u001b[0;34m)\u001b[0m \u001b[0;34m*\u001b[0m \u001b[0;34m(\u001b[0m\u001b[0mAe\u001b[0m\u001b[0;34m**\u001b[0m\u001b[0;36m2\u001b[0m \u001b[0;34m+\u001b[0m \u001b[0mVe\u001b[0m\u001b[0;34m**\u001b[0m\u001b[0;36m2\u001b[0m\u001b[0;34m)\u001b[0m \u001b[0;34m*\u001b[0m \u001b[0mchi2\u001b[0m\u001b[0;34m(\u001b[0m\u001b[0ms_hat\u001b[0m\u001b[0;34m)\u001b[0m\u001b[0;34m\u001b[0m\u001b[0;34m\u001b[0m\u001b[0m\n\u001b[0;32m---> 19\u001b[0;31m     \u001b[0mA1\u001b[0m \u001b[0;34m=\u001b[0m \u001b[0;34m-\u001b[0m\u001b[0;36m4\u001b[0m \u001b[0;34m*\u001b[0m \u001b[0mQe\u001b[0m \u001b[0;34m*\u001b[0m \u001b[0mAe\u001b[0m \u001b[0;34m*\u001b[0m \u001b[0mAmu\u001b[0m \u001b[0;34m*\u001b[0m \u001b[0mnp\u001b[0m\u001b[0;34m.\u001b[0m\u001b[0mexp\u001b[0m\u001b[0;34m(\u001b[0m\u001b[0;34m-\u001b[0m\u001b[0;36m2\u001b[0m \u001b[0;34m*\u001b[0m \u001b[0mQe\u001b[0m \u001b[0;34m*\u001b[0m \u001b[0mVe\u001b[0m\u001b[0;34m)\u001b[0m \u001b[0;34m*\u001b[0m \u001b[0mchi1\u001b[0m\u001b[0;34m(\u001b[0m\u001b[0ms_hat\u001b[0m\u001b[0;34m)\u001b[0m \u001b[0;34m+\u001b[0m \u001b[0;36m8\u001b[0m \u001b[0;34m*\u001b[0m \u001b[0mAmu\u001b[0m \u001b[0;34m*\u001b[0m \u001b[0mVmu\u001b[0m \u001b[0;34m*\u001b[0m \u001b[0mAe\u001b[0m \u001b[0;34m*\u001b[0m \u001b[0mVe\u001b[0m \u001b[0;34m*\u001b[0m \u001b[0mchi2\u001b[0m\u001b[0;34m(\u001b[0m\u001b[0ms_hat\u001b[0m\u001b[0;34m)\u001b[0m\u001b[0;34m\u001b[0m\u001b[0;34m\u001b[0m\u001b[0m\n\u001b[0m\u001b[1;32m     20\u001b[0m     \u001b[0;32mreturn\u001b[0m \u001b[0mA0\u001b[0m\u001b[0;34m,\u001b[0m \u001b[0mA1\u001b[0m\u001b[0;34m\u001b[0m\u001b[0;34m\u001b[0m\u001b[0m\n\u001b[1;32m     21\u001b[0m \u001b[0;34m\u001b[0m\u001b[0m\n",
            "\u001b[0;31mKeyboardInterrupt\u001b[0m: "
          ]
        }
      ]
    },
    {
      "cell_type": "markdown",
      "source": [
        "# Problem A"
      ],
      "metadata": {
        "id": "uJek1TuVZ5m-"
      }
    },
    {
      "cell_type": "code",
      "source": [
        "\n"
      ],
      "metadata": {
        "id": "qe7qHLExaFS0"
      },
      "execution_count": null,
      "outputs": []
    },
    {
      "cell_type": "markdown",
      "source": [
        "# Problem B"
      ],
      "metadata": {
        "id": "Asjle1SjaGQC"
      }
    },
    {
      "cell_type": "code",
      "source": [],
      "metadata": {
        "id": "xX-bxyk3aHwY"
      },
      "execution_count": null,
      "outputs": []
    }
  ]
}